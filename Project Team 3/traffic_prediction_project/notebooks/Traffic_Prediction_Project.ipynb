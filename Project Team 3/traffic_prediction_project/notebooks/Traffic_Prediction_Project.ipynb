{
 "cells": [
  {
   "cell_type": "code",
   "execution_count": null,
   "metadata": {},
   "outputs": [],
   "source": [
    "# Import necessary libraries and modules\n",
    "import pandas as pd\n",
    "from src import data_processing, model_training_ARIMA, visualization\n",
    "\n",
    "# Load data\n",
    "data_path = 'datasets/traffic_incident_data.csv'\n",
    "data = data_processing.load_traffic_data(data_path)\n",
    "\n",
    "# Split data into training and testing sets\n",
    "train_size = int(0.8 * len(data))\n",
    "train_data, test_data = data[:train_size], data[train_size:]\n",
    "\n",
    "# Train the model\n",
    "model = model_training_ARIMA.train_traffic_model(train_data)\n",
    "\n",
    "# Make predictions\n",
    "predictions = model.forecast(steps=len(test_data))\n",
    "\n",
    "# Visualize predictions\n",
    "visualization.visualize_traffic_predictions(test_data, predictions)\n"
   ]
  },
  {
   "cell_type": "code",
   "execution_count": null,
   "metadata": {},
   "outputs": [],
   "source": [
    "from src.model_training_lstm import train_lstm_traffic_model\n",
    "\n",
    "\n",
    "# Set hyperparameters\n",
    "seq_length = 10\n",
    "epochs = 50\n",
    "batch_size = 64\n",
    "\n",
    "# Train the LSTM model\n",
    "lstm_model = train_lstm_traffic_model(train_data, seq_length, epochs, batch_size)\n"
   ]
  }
 ],
 "metadata": {
  "language_info": {
   "name": "python"
  }
 },
 "nbformat": 4,
 "nbformat_minor": 2
}
